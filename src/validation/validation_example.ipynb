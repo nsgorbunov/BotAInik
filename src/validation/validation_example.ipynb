{
  "cells": [
    {
      "cell_type": "code",
      "execution_count": 1,
      "metadata": {
        "colab": {
          "base_uri": "https://localhost:8080/"
        },
        "id": "EZPhRv6jbqrn",
        "outputId": "aa82f673-ece7-4eb0-acb1-e947a212506d"
      },
      "outputs": [
        {
          "name": "stdout",
          "output_type": "stream",
          "text": [
            "Collecting langchain_mistralai\n",
            "  Downloading langchain_mistralai-0.2.4-py3-none-any.whl.metadata (2.5 kB)\n",
            "Requirement already satisfied: httpx<1,>=0.25.2 in /usr/local/lib/python3.10/dist-packages (from langchain_mistralai) (0.28.1)\n",
            "Collecting httpx-sse<1,>=0.3.1 (from langchain_mistralai)\n",
            "  Downloading httpx_sse-0.4.0-py3-none-any.whl.metadata (9.0 kB)\n",
            "Collecting langchain-core<0.4.0,>=0.3.27 (from langchain_mistralai)\n",
            "  Downloading langchain_core-0.3.28-py3-none-any.whl.metadata (6.3 kB)\n",
            "Requirement already satisfied: pydantic<3,>=2 in /usr/local/lib/python3.10/dist-packages (from langchain_mistralai) (2.10.3)\n",
            "Requirement already satisfied: tokenizers<1,>=0.15.1 in /usr/local/lib/python3.10/dist-packages (from langchain_mistralai) (0.21.0)\n",
            "Requirement already satisfied: anyio in /usr/local/lib/python3.10/dist-packages (from httpx<1,>=0.25.2->langchain_mistralai) (3.7.1)\n",
            "Requirement already satisfied: certifi in /usr/local/lib/python3.10/dist-packages (from httpx<1,>=0.25.2->langchain_mistralai) (2024.12.14)\n",
            "Requirement already satisfied: httpcore==1.* in /usr/local/lib/python3.10/dist-packages (from httpx<1,>=0.25.2->langchain_mistralai) (1.0.7)\n",
            "Requirement already satisfied: idna in /usr/local/lib/python3.10/dist-packages (from httpx<1,>=0.25.2->langchain_mistralai) (3.10)\n",
            "Requirement already satisfied: h11<0.15,>=0.13 in /usr/local/lib/python3.10/dist-packages (from httpcore==1.*->httpx<1,>=0.25.2->langchain_mistralai) (0.14.0)\n",
            "Requirement already satisfied: PyYAML>=5.3 in /usr/local/lib/python3.10/dist-packages (from langchain-core<0.4.0,>=0.3.27->langchain_mistralai) (6.0.2)\n",
            "Requirement already satisfied: jsonpatch<2.0,>=1.33 in /usr/local/lib/python3.10/dist-packages (from langchain-core<0.4.0,>=0.3.27->langchain_mistralai) (1.33)\n",
            "Requirement already satisfied: langsmith<0.3,>=0.1.125 in /usr/local/lib/python3.10/dist-packages (from langchain-core<0.4.0,>=0.3.27->langchain_mistralai) (0.2.3)\n",
            "Requirement already satisfied: packaging<25,>=23.2 in /usr/local/lib/python3.10/dist-packages (from langchain-core<0.4.0,>=0.3.27->langchain_mistralai) (24.2)\n",
            "Requirement already satisfied: tenacity!=8.4.0,<10.0.0,>=8.1.0 in /usr/local/lib/python3.10/dist-packages (from langchain-core<0.4.0,>=0.3.27->langchain_mistralai) (9.0.0)\n",
            "Requirement already satisfied: typing-extensions>=4.7 in /usr/local/lib/python3.10/dist-packages (from langchain-core<0.4.0,>=0.3.27->langchain_mistralai) (4.12.2)\n",
            "Requirement already satisfied: annotated-types>=0.6.0 in /usr/local/lib/python3.10/dist-packages (from pydantic<3,>=2->langchain_mistralai) (0.7.0)\n",
            "Requirement already satisfied: pydantic-core==2.27.1 in /usr/local/lib/python3.10/dist-packages (from pydantic<3,>=2->langchain_mistralai) (2.27.1)\n",
            "Requirement already satisfied: huggingface-hub<1.0,>=0.16.4 in /usr/local/lib/python3.10/dist-packages (from tokenizers<1,>=0.15.1->langchain_mistralai) (0.27.0)\n",
            "Requirement already satisfied: filelock in /usr/local/lib/python3.10/dist-packages (from huggingface-hub<1.0,>=0.16.4->tokenizers<1,>=0.15.1->langchain_mistralai) (3.16.1)\n",
            "Requirement already satisfied: fsspec>=2023.5.0 in /usr/local/lib/python3.10/dist-packages (from huggingface-hub<1.0,>=0.16.4->tokenizers<1,>=0.15.1->langchain_mistralai) (2024.10.0)\n",
            "Requirement already satisfied: requests in /usr/local/lib/python3.10/dist-packages (from huggingface-hub<1.0,>=0.16.4->tokenizers<1,>=0.15.1->langchain_mistralai) (2.32.3)\n",
            "Requirement already satisfied: tqdm>=4.42.1 in /usr/local/lib/python3.10/dist-packages (from huggingface-hub<1.0,>=0.16.4->tokenizers<1,>=0.15.1->langchain_mistralai) (4.67.1)\n",
            "Requirement already satisfied: jsonpointer>=1.9 in /usr/local/lib/python3.10/dist-packages (from jsonpatch<2.0,>=1.33->langchain-core<0.4.0,>=0.3.27->langchain_mistralai) (3.0.0)\n",
            "Requirement already satisfied: orjson<4.0.0,>=3.9.14 in /usr/local/lib/python3.10/dist-packages (from langsmith<0.3,>=0.1.125->langchain-core<0.4.0,>=0.3.27->langchain_mistralai) (3.10.12)\n",
            "Requirement already satisfied: requests-toolbelt<2.0.0,>=1.0.0 in /usr/local/lib/python3.10/dist-packages (from langsmith<0.3,>=0.1.125->langchain-core<0.4.0,>=0.3.27->langchain_mistralai) (1.0.0)\n",
            "Requirement already satisfied: sniffio>=1.1 in /usr/local/lib/python3.10/dist-packages (from anyio->httpx<1,>=0.25.2->langchain_mistralai) (1.3.1)\n",
            "Requirement already satisfied: exceptiongroup in /usr/local/lib/python3.10/dist-packages (from anyio->httpx<1,>=0.25.2->langchain_mistralai) (1.2.2)\n",
            "Requirement already satisfied: charset-normalizer<4,>=2 in /usr/local/lib/python3.10/dist-packages (from requests->huggingface-hub<1.0,>=0.16.4->tokenizers<1,>=0.15.1->langchain_mistralai) (3.4.0)\n",
            "Requirement already satisfied: urllib3<3,>=1.21.1 in /usr/local/lib/python3.10/dist-packages (from requests->huggingface-hub<1.0,>=0.16.4->tokenizers<1,>=0.15.1->langchain_mistralai) (2.2.3)\n",
            "Downloading langchain_mistralai-0.2.4-py3-none-any.whl (15 kB)\n",
            "Downloading httpx_sse-0.4.0-py3-none-any.whl (7.8 kB)\n",
            "Downloading langchain_core-0.3.28-py3-none-any.whl (411 kB)\n",
            "\u001b[2K   \u001b[90m━━━━━━━━━━━━━━━━━━━━━━━━━━━━━━━━━━━━━━━━\u001b[0m \u001b[32m411.6/411.6 kB\u001b[0m \u001b[31m8.8 MB/s\u001b[0m eta \u001b[36m0:00:00\u001b[0m\n",
            "\u001b[?25hInstalling collected packages: httpx-sse, langchain-core, langchain_mistralai\n",
            "  Attempting uninstall: langchain-core\n",
            "    Found existing installation: langchain-core 0.3.25\n",
            "    Uninstalling langchain-core-0.3.25:\n",
            "      Successfully uninstalled langchain-core-0.3.25\n",
            "Successfully installed httpx-sse-0.4.0 langchain-core-0.3.28 langchain_mistralai-0.2.4\n"
          ]
        }
      ],
      "source": [
        "!pip install langchain_mistralai"
      ]
    },
    {
      "cell_type": "code",
      "execution_count": 2,
      "metadata": {
        "id": "wygDp49Xb70a"
      },
      "outputs": [],
      "source": [
        "import getpass\n",
        "import os"
      ]
    },
    {
      "cell_type": "code",
      "execution_count": 3,
      "metadata": {
        "colab": {
          "base_uri": "https://localhost:8080/"
        },
        "id": "h-Cg8ns_cD_j",
        "outputId": "62552d8f-e634-4884-8db9-2e19c111e247"
      },
      "outputs": [
        {
          "name": "stdout",
          "output_type": "stream",
          "text": [
            "··········\n"
          ]
        }
      ],
      "source": [
        "os.environ[\"LANGCHAIN_TRACING_V2\"] = \"true\"\n",
        "os.environ['LANGCHAIN_ENDPOINT'] = \"https://api.smith.langchain.com\"\n",
        "os.environ['LANGCHAIN_PROJECT'] = 'test_langchain'\n",
        "os.environ[\"LANGCHAIN_API_KEY\"] = getpass.getpass()"
      ]
    },
    {
      "cell_type": "code",
      "execution_count": 8,
      "metadata": {
        "id": "CHX-t_GZcSd3"
      },
      "outputs": [],
      "source": [
        "from langchain_mistralai import ChatMistralAI\n",
        "\n",
        "eval_llm = ChatMistralAI(\n",
        "    model=\"open-mistral-7b\",\n",
        "    temperature=0\n",
        ")"
      ]
    },
    {
      "cell_type": "code",
      "execution_count": 6,
      "metadata": {
        "id": "bXx3Hgmbefqx"
      },
      "outputs": [],
      "source": [
        "os.environ[\"MISTRAL_API_KEY\"] = getpass.getpass()"
      ]
    },
    {
      "cell_type": "code",
      "execution_count": 27,
      "metadata": {
        "colab": {
          "base_uri": "https://localhost:8080/"
        },
        "id": "1OugmcCmbt7P",
        "outputId": "14a6d653-c151-4cbd-c9b1-cf84998f7a89"
      },
      "outputs": [
        {
          "name": "stdout",
          "output_type": "stream",
          "text": [
            "Usrednennaya otsenka: 1.0\n"
          ]
        }
      ],
      "source": [
        "import os\n",
        "import requests\n",
        "import time\n",
        "from langchain import hub\n",
        "from langsmith.evaluation import evaluate\n",
        "\n",
        "grade_prompt_answer_accuracy = hub.pull(\"langchain-ai/rag-answer-vs-reference\")\n",
        "\n",
        "def answer_evaluator(run, example) -> dict:\n",
        "    input_question = example.inputs[\"question\"]\n",
        "    reference = example.outputs[\"ground_truth\"]\n",
        "    prediction = example.outputs[\"ground_truth\"] # run.outputs[\"answer\"] - заглушка, при инференсе убрать\n",
        "\n",
        "    llm = eval_llm\n",
        "    answer_grader = grade_prompt_answer_accuracy | llm\n",
        "\n",
        "    score = answer_grader.invoke({\"question\": input_question,\n",
        "                                  \"correct_answer\": reference,\n",
        "                                  \"student_answer\": prediction})\n",
        "    score = score[\"Score\"]\n",
        "    time.sleep(3)\n",
        "\n",
        "    return {\"key\": \"answer_v_reference_score\", \"score\": score}\n",
        "\n",
        "def evaluate_dataset_with_langsmith(predict_rag_answer, dataset_name):\n",
        "    experiment_results = evaluate(\n",
        "        predict_rag_answer,\n",
        "        data=dataset_name,\n",
        "        evaluators=[answer_evaluator],\n",
        "        experiment_prefix=\"rag-answer-vs-reference\",\n",
        "    )\n",
        "\n",
        "    return experiment_results\n",
        "\n",
        "def get_average_score(experiment_results):\n",
        "    results = experiment_results.to_pandas()\n",
        "    mean = results['feedback.answer_v_reference_score'].mean()\n",
        "    return mean\n",
        "\n",
        "def predict(message):\n",
        "    return message\n",
        "\n",
        "predict_rag_answer = predict # заглушка\n",
        "dataset_name = 'Validation data' # исправить название датасета\n",
        "\n",
        "experiment_results = evaluate_dataset_with_langsmith(predict_rag_answer, dataset_name)\n",
        "average_score = get_average_score(experiment_results)\n",
        "\n",
        "print(f\"Усредненная оценка: {average_score}\")\n"
      ]
    },
    {
      "cell_type": "code",
      "execution_count": 30,
      "metadata": {
        "colab": {
          "base_uri": "https://localhost:8080/",
          "height": 154,
          "referenced_widgets": [
            "6dfcc8d1cb9946339d89fb9b05a29a0d",
            "c0402b9e0f5a4d22a8cf348a3c8960b2",
            "cff92e58a9b344d3a8d2e7019fb3b225",
            "5417e01b677440aea6fe470bc8b936e2",
            "e0ded4542caa482f8f3c54751fe3a530",
            "7602d6ea5c4b4ed7baea8ec2c5ad03a8",
            "cf4b0106bcc14f0bb490383fd2c2107d",
            "63e215cd210c42bebb196a6749fd9ff0",
            "035e5d1926e34cfea9229a09f1420767",
            "f07b330555e44312b7fcff1fff305e92",
            "57352f49c02d4d989ecaac9bc9301038"
          ]
        },
        "id": "ac34bGC_kKLA",
        "outputId": "28b12e3e-1e7c-4b0d-d126-a6896898d5fa"
      },
      "outputs": [
        {
          "name": "stdout",
          "output_type": "stream",
          "text": [
            "View the evaluation results for experiment: 'rag-answer-vs-reference-4d3cabcd' at:\n",
            "https://smith.langchain.com/o/83698e54-c7d9-4b67-bcce-7c8d394a5542/datasets/1482ffb8-60ed-4312-ae46-7d6e0d30016d/compare?selectedSessions=a1442b31-1fa7-41ad-b39c-7ee29a2de2aa\n",
            "\n",
            "\n"
          ]
        },
        {
          "data": {
            "application/vnd.jupyter.widget-view+json": {
              "model_id": "6dfcc8d1cb9946339d89fb9b05a29a0d",
              "version_major": 2,
              "version_minor": 0
            },
            "text/plain": [
              "0it [00:00, ?it/s]"
            ]
          },
          "metadata": {},
          "output_type": "display_data"
        },
        {
          "name": "stdout",
          "output_type": "stream",
          "text": [
            "Усредненная оценка: 1.0\n"
          ]
        }
      ],
      "source": [
        "grade_prompt_answer_helpfulness = prompt = hub.pull(\"langchain-ai/rag-answer-helpfulness\")\n",
        "\n",
        "def answer_helpfulness_evaluator(run, example) -> dict:\n",
        "    \"\"\"\n",
        "    A simple evaluator for RAG answer helpfulness\n",
        "    \"\"\"\n",
        "    input_question = example.inputs[\"question\"]\n",
        "    prediction = example.outputs[\"ground_truth\"] # run.outputs[\"answer\"] - заглушка, при инференсе убрать\n",
        "\n",
        "    # LLM grader\n",
        "    llm = eval_llm\n",
        "    answer_grader = grade_prompt_answer_helpfulness | llm\n",
        "\n",
        "    score = answer_grader.invoke({\"question\": input_question,\n",
        "                                  \"student_answer\": prediction})\n",
        "    score = score[\"Score\"]\n",
        "    time.sleep(3)\n",
        "\n",
        "    return {\"key\": \"answer_helpfulness_score\", \"score\": score}\n",
        "\n",
        "predict_rag_answer = predict # заглушка\n",
        "dataset_name = 'Validation data' # исправить название датасета\n",
        "\n",
        "experiment_results = evaluate_dataset_with_langsmith(predict_rag_answer, dataset_name)\n",
        "average_score = get_average_score(experiment_results)\n",
        "\n",
        "print(f\"Усредненная оценка: {average_score}\")"
      ]
    },
    {
      "cell_type": "code",
      "execution_count": null,
      "metadata": {
        "id": "6Ry-OvXim9cV"
      },
      "outputs": [],
      "source": [
        "# Prompt\n",
        "grade_prompt_hallucinations = prompt = hub.pull(\"langchain-ai/rag-answer-hallucination\")\n",
        "\n",
        "def answer_hallucination_evaluator(run, example) -> dict:\n",
        "    \"\"\"\n",
        "    A simple evaluator for generation hallucination\n",
        "    \"\"\"\n",
        "    input_question = example.inputs[\"question\"]\n",
        "    contexts = run.outputs[\"contexts\"]\n",
        "\n",
        "    prediction = run.outputs[\"answer\"]\n",
        "    llm = eval_llm\n",
        "\n",
        "    answer_grader = grade_prompt_hallucinations | llm\n",
        "\n",
        "    # Get score\n",
        "    score = answer_grader.invoke({\"documents\": contexts,\n",
        "                                  \"student_answer\": prediction})\n",
        "    score = score[\"Score\"]\n",
        "    time.sleep(3)\n",
        "\n",
        "    return {\"key\": \"answer_hallucination\", \"score\": score}\n",
        "\n",
        "# без предикта не вывезти)"
      ]
    },
    {
      "cell_type": "code",
      "execution_count": null,
      "metadata": {
        "id": "bWabqRq-oP8q"
      },
      "outputs": [],
      "source": [
        "# Grade prompt\n",
        "grade_prompt_doc_relevance = hub.pull(\"langchain-ai/rag-document-relevance\")\n",
        "\n",
        "def docs_relevance_evaluator(run, example) -> dict:\n",
        "    \"\"\"\n",
        "    A simple evaluator for document relevance\n",
        "    \"\"\"\n",
        "    input_question = example.inputs[\"question\"]\n",
        "    contexts = run.outputs[\"contexts\"]\n",
        "\n",
        "    llm = eval_llm\n",
        "    answer_grader = grade_prompt_doc_relevance | llm\n",
        "\n",
        "    score = answer_grader.invoke({\"question\":input_question,\n",
        "                                  \"documents\":contexts})\n",
        "    score = score[\"Score\"]\n",
        "    time.sleep(3)\n",
        "\n",
        "    return {\"key\": \"document_relevance\", \"score\": score}\n",
        "\n",
        "# то же самое, зависит от контекста, но запуски одинаковы"
      ]
    }
  ],
  "metadata": {
    "colab": {
      "provenance": []
    },
    "kernelspec": {
      "display_name": "Python 3",
      "name": "python3"
    },
    "language_info": {
      "name": "python"
    },
    "widgets": {
      "application/vnd.jupyter.widget-state+json": {
        "035e5d1926e34cfea9229a09f1420767": {
          "model_module": "@jupyter-widgets/controls",
          "model_module_version": "1.5.0",
          "model_name": "ProgressStyleModel",
          "state": {
            "_model_module": "@jupyter-widgets/controls",
            "_model_module_version": "1.5.0",
            "_model_name": "ProgressStyleModel",
            "_view_count": null,
            "_view_module": "@jupyter-widgets/base",
            "_view_module_version": "1.2.0",
            "_view_name": "StyleView",
            "bar_color": null,
            "description_width": ""
          }
        },
        "5417e01b677440aea6fe470bc8b936e2": {
          "model_module": "@jupyter-widgets/controls",
          "model_module_version": "1.5.0",
          "model_name": "HTMLModel",
          "state": {
            "_dom_classes": [],
            "_model_module": "@jupyter-widgets/controls",
            "_model_module_version": "1.5.0",
            "_model_name": "HTMLModel",
            "_view_count": null,
            "_view_module": "@jupyter-widgets/controls",
            "_view_module_version": "1.5.0",
            "_view_name": "HTMLView",
            "description": "",
            "description_tooltip": null,
            "layout": "IPY_MODEL_f07b330555e44312b7fcff1fff305e92",
            "placeholder": "​",
            "style": "IPY_MODEL_57352f49c02d4d989ecaac9bc9301038",
            "value": " 10/? [00:21&lt;00:00,  1.94s/it]"
          }
        },
        "57352f49c02d4d989ecaac9bc9301038": {
          "model_module": "@jupyter-widgets/controls",
          "model_module_version": "1.5.0",
          "model_name": "DescriptionStyleModel",
          "state": {
            "_model_module": "@jupyter-widgets/controls",
            "_model_module_version": "1.5.0",
            "_model_name": "DescriptionStyleModel",
            "_view_count": null,
            "_view_module": "@jupyter-widgets/base",
            "_view_module_version": "1.2.0",
            "_view_name": "StyleView",
            "description_width": ""
          }
        },
        "63e215cd210c42bebb196a6749fd9ff0": {
          "model_module": "@jupyter-widgets/base",
          "model_module_version": "1.2.0",
          "model_name": "LayoutModel",
          "state": {
            "_model_module": "@jupyter-widgets/base",
            "_model_module_version": "1.2.0",
            "_model_name": "LayoutModel",
            "_view_count": null,
            "_view_module": "@jupyter-widgets/base",
            "_view_module_version": "1.2.0",
            "_view_name": "LayoutView",
            "align_content": null,
            "align_items": null,
            "align_self": null,
            "border": null,
            "bottom": null,
            "display": null,
            "flex": null,
            "flex_flow": null,
            "grid_area": null,
            "grid_auto_columns": null,
            "grid_auto_flow": null,
            "grid_auto_rows": null,
            "grid_column": null,
            "grid_gap": null,
            "grid_row": null,
            "grid_template_areas": null,
            "grid_template_columns": null,
            "grid_template_rows": null,
            "height": null,
            "justify_content": null,
            "justify_items": null,
            "left": null,
            "margin": null,
            "max_height": null,
            "max_width": null,
            "min_height": null,
            "min_width": null,
            "object_fit": null,
            "object_position": null,
            "order": null,
            "overflow": null,
            "overflow_x": null,
            "overflow_y": null,
            "padding": null,
            "right": null,
            "top": null,
            "visibility": null,
            "width": "20px"
          }
        },
        "6dfcc8d1cb9946339d89fb9b05a29a0d": {
          "model_module": "@jupyter-widgets/controls",
          "model_module_version": "1.5.0",
          "model_name": "HBoxModel",
          "state": {
            "_dom_classes": [],
            "_model_module": "@jupyter-widgets/controls",
            "_model_module_version": "1.5.0",
            "_model_name": "HBoxModel",
            "_view_count": null,
            "_view_module": "@jupyter-widgets/controls",
            "_view_module_version": "1.5.0",
            "_view_name": "HBoxView",
            "box_style": "",
            "children": [
              "IPY_MODEL_c0402b9e0f5a4d22a8cf348a3c8960b2",
              "IPY_MODEL_cff92e58a9b344d3a8d2e7019fb3b225",
              "IPY_MODEL_5417e01b677440aea6fe470bc8b936e2"
            ],
            "layout": "IPY_MODEL_e0ded4542caa482f8f3c54751fe3a530"
          }
        },
        "7602d6ea5c4b4ed7baea8ec2c5ad03a8": {
          "model_module": "@jupyter-widgets/base",
          "model_module_version": "1.2.0",
          "model_name": "LayoutModel",
          "state": {
            "_model_module": "@jupyter-widgets/base",
            "_model_module_version": "1.2.0",
            "_model_name": "LayoutModel",
            "_view_count": null,
            "_view_module": "@jupyter-widgets/base",
            "_view_module_version": "1.2.0",
            "_view_name": "LayoutView",
            "align_content": null,
            "align_items": null,
            "align_self": null,
            "border": null,
            "bottom": null,
            "display": null,
            "flex": null,
            "flex_flow": null,
            "grid_area": null,
            "grid_auto_columns": null,
            "grid_auto_flow": null,
            "grid_auto_rows": null,
            "grid_column": null,
            "grid_gap": null,
            "grid_row": null,
            "grid_template_areas": null,
            "grid_template_columns": null,
            "grid_template_rows": null,
            "height": null,
            "justify_content": null,
            "justify_items": null,
            "left": null,
            "margin": null,
            "max_height": null,
            "max_width": null,
            "min_height": null,
            "min_width": null,
            "object_fit": null,
            "object_position": null,
            "order": null,
            "overflow": null,
            "overflow_x": null,
            "overflow_y": null,
            "padding": null,
            "right": null,
            "top": null,
            "visibility": null,
            "width": null
          }
        },
        "c0402b9e0f5a4d22a8cf348a3c8960b2": {
          "model_module": "@jupyter-widgets/controls",
          "model_module_version": "1.5.0",
          "model_name": "HTMLModel",
          "state": {
            "_dom_classes": [],
            "_model_module": "@jupyter-widgets/controls",
            "_model_module_version": "1.5.0",
            "_model_name": "HTMLModel",
            "_view_count": null,
            "_view_module": "@jupyter-widgets/controls",
            "_view_module_version": "1.5.0",
            "_view_name": "HTMLView",
            "description": "",
            "description_tooltip": null,
            "layout": "IPY_MODEL_7602d6ea5c4b4ed7baea8ec2c5ad03a8",
            "placeholder": "​",
            "style": "IPY_MODEL_cf4b0106bcc14f0bb490383fd2c2107d",
            "value": ""
          }
        },
        "cf4b0106bcc14f0bb490383fd2c2107d": {
          "model_module": "@jupyter-widgets/controls",
          "model_module_version": "1.5.0",
          "model_name": "DescriptionStyleModel",
          "state": {
            "_model_module": "@jupyter-widgets/controls",
            "_model_module_version": "1.5.0",
            "_model_name": "DescriptionStyleModel",
            "_view_count": null,
            "_view_module": "@jupyter-widgets/base",
            "_view_module_version": "1.2.0",
            "_view_name": "StyleView",
            "description_width": ""
          }
        },
        "cff92e58a9b344d3a8d2e7019fb3b225": {
          "model_module": "@jupyter-widgets/controls",
          "model_module_version": "1.5.0",
          "model_name": "FloatProgressModel",
          "state": {
            "_dom_classes": [],
            "_model_module": "@jupyter-widgets/controls",
            "_model_module_version": "1.5.0",
            "_model_name": "FloatProgressModel",
            "_view_count": null,
            "_view_module": "@jupyter-widgets/controls",
            "_view_module_version": "1.5.0",
            "_view_name": "ProgressView",
            "bar_style": "success",
            "description": "",
            "description_tooltip": null,
            "layout": "IPY_MODEL_63e215cd210c42bebb196a6749fd9ff0",
            "max": 1,
            "min": 0,
            "orientation": "horizontal",
            "style": "IPY_MODEL_035e5d1926e34cfea9229a09f1420767",
            "value": 1
          }
        },
        "e0ded4542caa482f8f3c54751fe3a530": {
          "model_module": "@jupyter-widgets/base",
          "model_module_version": "1.2.0",
          "model_name": "LayoutModel",
          "state": {
            "_model_module": "@jupyter-widgets/base",
            "_model_module_version": "1.2.0",
            "_model_name": "LayoutModel",
            "_view_count": null,
            "_view_module": "@jupyter-widgets/base",
            "_view_module_version": "1.2.0",
            "_view_name": "LayoutView",
            "align_content": null,
            "align_items": null,
            "align_self": null,
            "border": null,
            "bottom": null,
            "display": null,
            "flex": null,
            "flex_flow": null,
            "grid_area": null,
            "grid_auto_columns": null,
            "grid_auto_flow": null,
            "grid_auto_rows": null,
            "grid_column": null,
            "grid_gap": null,
            "grid_row": null,
            "grid_template_areas": null,
            "grid_template_columns": null,
            "grid_template_rows": null,
            "height": null,
            "justify_content": null,
            "justify_items": null,
            "left": null,
            "margin": null,
            "max_height": null,
            "max_width": null,
            "min_height": null,
            "min_width": null,
            "object_fit": null,
            "object_position": null,
            "order": null,
            "overflow": null,
            "overflow_x": null,
            "overflow_y": null,
            "padding": null,
            "right": null,
            "top": null,
            "visibility": null,
            "width": null
          }
        },
        "f07b330555e44312b7fcff1fff305e92": {
          "model_module": "@jupyter-widgets/base",
          "model_module_version": "1.2.0",
          "model_name": "LayoutModel",
          "state": {
            "_model_module": "@jupyter-widgets/base",
            "_model_module_version": "1.2.0",
            "_model_name": "LayoutModel",
            "_view_count": null,
            "_view_module": "@jupyter-widgets/base",
            "_view_module_version": "1.2.0",
            "_view_name": "LayoutView",
            "align_content": null,
            "align_items": null,
            "align_self": null,
            "border": null,
            "bottom": null,
            "display": null,
            "flex": null,
            "flex_flow": null,
            "grid_area": null,
            "grid_auto_columns": null,
            "grid_auto_flow": null,
            "grid_auto_rows": null,
            "grid_column": null,
            "grid_gap": null,
            "grid_row": null,
            "grid_template_areas": null,
            "grid_template_columns": null,
            "grid_template_rows": null,
            "height": null,
            "justify_content": null,
            "justify_items": null,
            "left": null,
            "margin": null,
            "max_height": null,
            "max_width": null,
            "min_height": null,
            "min_width": null,
            "object_fit": null,
            "object_position": null,
            "order": null,
            "overflow": null,
            "overflow_x": null,
            "overflow_y": null,
            "padding": null,
            "right": null,
            "top": null,
            "visibility": null,
            "width": null
          }
        }
      }
    }
  },
  "nbformat": 4,
  "nbformat_minor": 0
}
